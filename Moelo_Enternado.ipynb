{
  "nbformat": 4,
  "nbformat_minor": 0,
  "metadata": {
    "colab": {
      "provenance": [],
      "authorship_tag": "ABX9TyNMzZUskL/LtUoCh0JvCg6D",
      "include_colab_link": true
    },
    "kernelspec": {
      "name": "python3",
      "display_name": "Python 3"
    },
    "language_info": {
      "name": "python"
    }
  },
  "cells": [
    {
      "cell_type": "markdown",
      "metadata": {
        "id": "view-in-github",
        "colab_type": "text"
      },
      "source": [
        "<a href=\"https://colab.research.google.com/github/claudiopavonX/2024UCALCD002/blob/main/Moelo_Enternado.ipynb\" target=\"_parent\"><img src=\"https://colab.research.google.com/assets/colab-badge.svg\" alt=\"Open In Colab\"/></a>"
      ]
    },
    {
      "cell_type": "code",
      "execution_count": 1,
      "metadata": {
        "colab": {
          "base_uri": "https://localhost:8080/"
        },
        "id": "uRUVdQZZYV0R",
        "outputId": "54cd79bc-a6a0-4418-82c1-97be93b2ef99"
      },
      "outputs": [
        {
          "output_type": "stream",
          "name": "stdout",
          "text": [
            "Precisión: 1.0\n"
          ]
        },
        {
          "output_type": "execute_result",
          "data": {
            "text/plain": [
              "['knn_model.joblib']"
            ]
          },
          "metadata": {},
          "execution_count": 1
        }
      ],
      "source": [
        "import pandas as pd\n",
        "from sklearn.model_selection import train_test_split\n",
        "from sklearn.neighbors import KNeighborsClassifier\n",
        "from sklearn.metrics import accuracy_score\n",
        "import joblib\n",
        "\n",
        "# Carga del dataset Iris de Kaggle\n",
        "url = \"https://archive.ics.uci.edu/ml/machine-learning-databases/iris/iris.data\"\n",
        "df = pd.read_csv(url, names=['sepal_length', 'sepal_width', 'petal_length', 'petal_width', 'species'])\n",
        "\n",
        "# Separación de características y etiquetas\n",
        "X = df[['sepal_length', 'sepal_width', 'petal_length', 'petal_width']]\n",
        "y = df['species']\n",
        "\n",
        "# División del conjunto de datos en entrenamiento y prueba\n",
        "X_train, X_test, y_train, y_test = train_test_split(X, y, test_size=0.2, random_state=42)\n",
        "\n",
        "# Creación del modelo KNN\n",
        "knn = KNeighborsClassifier(n_neighbors=2)\n",
        "\n",
        "# Entrenamiento del modelo\n",
        "knn.fit(X_train, y_train)\n",
        "\n",
        "# Predicciones sobre el conjunto de datos de prueba\n",
        "y_pred = knn.predict(X_test)\n",
        "\n",
        "# Cálculo de la precisión\n",
        "accuracy = accuracy_score(y_test, y_pred)\n",
        "print(\"Precisión:\", accuracy)\n",
        "\n",
        "# Guardar el modelo entrenado en un archivo\n",
        "joblib.dump(knn, 'knn_model.joblib')"
      ]
    },
    {
      "cell_type": "code",
      "source": [
        "import pickle\n",
        "# Guardar el modelo PKL\n",
        "pickle.dump(knn, open(\"modelo_knn.pkl\", \"wb\"))"
      ],
      "metadata": {
        "id": "OKc7OX6AYXrQ"
      },
      "execution_count": null,
      "outputs": []
    },
    {
      "cell_type": "code",
      "source": [
        "\n",
        "# Cargar el modelo PKL\n",
        "modelo_cargado = pickle.load(open(\"modelo_knn.pkl\", \"rb\"))\n"
      ],
      "metadata": {
        "id": "SrDqlxcoaFjM"
      },
      "execution_count": null,
      "outputs": []
    },
    {
      "cell_type": "code",
      "source": [
        "def validar_datos(sepal_length, sepal_width, petal_length, petal_width):\n",
        "  \"\"\"\n",
        "  Función para validar los datos ingresados por el usuario.\n",
        "\n",
        "  Args:\n",
        "    sepal_length: Valor ingresado para el largo del sépalo.\n",
        "    sepal_width: Valor ingresado para el ancho del sépalo.\n",
        "    petal_length: Valor ingresado para el largo del pétalo.\n",
        "    petal_width: Valor ingresado para el ancho del pétalo.\n",
        "\n",
        "  Returns:\n",
        "    True si los datos son válidos, False en caso contrario.\n",
        "  \"\"\"\n",
        "  if (sepal_length < 0 or sepal_length > 10) or \\\n",
        "     (sepal_width < 0 or sepal_width > 10) or \\\n",
        "     (petal_length < 0 or petal_length > 10) or \\\n",
        "     (petal_width < 0 or petal_width > 10):\n",
        "    return False\n",
        "  else:\n",
        "    return True\n"
      ],
      "metadata": {
        "id": "HMASE-McaGq-"
      },
      "execution_count": null,
      "outputs": []
    },
    {
      "cell_type": "code",
      "source": [
        "def realizar_prediccion(sepal_length, sepal_width, petal_length, petal_width):\n",
        "  \"\"\"\n",
        "  Función para realizar la predicción de la especie de la flor.\n",
        "\n",
        "  Args:\n",
        "    sepal_length: Valor ingresado para el largo del sépalo.\n",
        "    sepal_width: Valor ingresado para el ancho del sépalo.\n",
        "    petal_length: Valor ingresado para el largo del pétalo.\n",
        "    petal_width: Valor ingresado para el ancho del pétalo.\n",
        "\n",
        "  Returns:\n",
        "    Especie predicha de la flor.\n",
        "  \"\"\"\n",
        "  datos_flor = [sepal_length, sepal_width, petal_length, petal_width]\n",
        "  prediccion = modelo_cargado.predict([datos_flor])\n",
        "\n",
        "  if prediccion == 0:\n",
        "    return \"Setosa\"\n",
        "  elif prediccion == 1:\n",
        "    return \"Versicolor\"\n",
        "  else:\n",
        "    return \"Virginica\"\n",
        "\n",
        "\n",
        "\n"
      ],
      "metadata": {
        "id": "c9jIfgP4aKIx"
      },
      "execution_count": null,
      "outputs": []
    },
    {
      "cell_type": "code",
      "source": [
        "\n",
        "# Solicitar el largo del sépalo\n",
        "sepal_length = float(input(\"Ingrese el largo del sépalo (cm): \"))\n",
        "\n",
        "# Solicitar el ancho del sépalo\n",
        "sepal_width = float(input(\"Ingrese el ancho del sépalo (cm): \"))\n",
        "\n",
        "# Solicitar el largo del pétalo\n",
        "petal_length = float(input(\"Ingrese el largo del pétalo (cm): \"))\n",
        "\n",
        "# Solicitar el ancho del pétalo\n",
        "petal_width = float(input(\"Ingrese el ancho del pétalo (cm): \"))\n"
      ],
      "metadata": {
        "colab": {
          "base_uri": "https://localhost:8080/"
        },
        "id": "RoxW7etLaWwS",
        "outputId": "6e4f7795-c398-400a-d957-625bd685c467"
      },
      "execution_count": null,
      "outputs": [
        {
          "name": "stdout",
          "output_type": "stream",
          "text": [
            "Ingrese el largo del sépalo (cm): 5.1\n",
            "Ingrese el ancho del sépalo (cm): 1.4\n",
            "Ingrese el largo del pétalo (cm): 3.5\n",
            "Ingrese el ancho del pétalo (cm): 0.2\n"
          ]
        }
      ]
    },
    {
      "cell_type": "code",
      "source": [
        "# Validar los datos ingresados\n",
        "if validar_datos(sepal_length, sepal_width, petal_length, petal_width):\n",
        "  # Realizar la predicción\n",
        "  especie_predicha = realizar_prediccion(sepal_length, sepal_width, petal_length, petal_width)\n",
        "  print(f\"Especie predicha: {especie_predicha}\")\n",
        "else:\n",
        "  print(\"Error: Los valores ingresados deben estar entre 0 y 10\")\n",
        "\n",
        "print(sepal_length, sepal_width, petal_length, petal_width)\n"
      ],
      "metadata": {
        "colab": {
          "base_uri": "https://localhost:8080/"
        },
        "id": "oL1TlQN8aaty",
        "outputId": "3cb80f80-7e19-4633-8d90-da7dbcbb5335"
      },
      "execution_count": null,
      "outputs": [
        {
          "output_type": "stream",
          "name": "stdout",
          "text": [
            "Especie predicha: ['Iris-versicolor']\n",
            "5.1 1.4 3.5 0.2\n"
          ]
        },
        {
          "output_type": "stream",
          "name": "stderr",
          "text": [
            "/usr/local/lib/python3.10/dist-packages/sklearn/base.py:439: UserWarning: X does not have valid feature names, but KNeighborsClassifier was fitted with feature names\n",
            "  warnings.warn(\n"
          ]
        }
      ]
    }
  ]
}