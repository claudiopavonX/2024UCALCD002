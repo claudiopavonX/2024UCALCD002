{
  "nbformat": 4,
  "nbformat_minor": 0,
  "metadata": {
    "colab": {
      "provenance": [],
      "authorship_tag": "ABX9TyMepMe+oLHOyqMPdMPJG8Pb",
      "include_colab_link": true
    },
    "kernelspec": {
      "name": "python3",
      "display_name": "Python 3"
    },
    "language_info": {
      "name": "python"
    }
  },
  "cells": [
    {
      "cell_type": "markdown",
      "metadata": {
        "id": "view-in-github",
        "colab_type": "text"
      },
      "source": [
        "<a href=\"https://colab.research.google.com/github/claudiopavonX/2024UCALCD002/blob/main/E03_Peivon.ipynb\" target=\"_parent\"><img src=\"https://colab.research.google.com/assets/colab-badge.svg\" alt=\"Open In Colab\"/></a>"
      ]
    },
    {
      "cell_type": "markdown",
      "source": [
        "El objetivo será que los estudiantes puedan visualizar y comprender la distribución de valores en un conjunto de datos bidimensional y apreciar, además de la utilidad de las representaciones gráficas, el trabajo de desarrollo de un proyecto en el entorno de un Notebook con cotrol de versiones en GIT. **Contexto del ejercicio:** Imagina que trabajas para una empresa que se dedica a la exploración y extracción de recursos naturales. Tu equipo ha estado realizando estudios geológicos en una región montañosa para identificar posibles áreas ricas en minerales valiosos. Durante las exploraciones, se han recolectado muestras de roca en diferentes puntos de coordenadas (x, y) y se ha medido la concentración de un mineral específico en cada una de estas muestras. [10, 10.625, 12.5, 15.625, 20, 40] \\\n",
        " [5.625, 6.25, 8.125, 11.25, 15.625, 26.11] \\\n",
        "  [2.5, 3.125, 5.0, 8.125, 12.5, 12.005] \\\n",
        "   [0.625, 1.25, 3.125, 6.25, 10.625, 23.34]     \n",
        "    [0, 0.625, 2.5, 5.625, 10, 12.89] \\\n",
        "     Tu tarea es analizar los datos de concentración del mineral y crear una visualización que permita identificar las áreas más prometedoras para la extracción. Para ello, utilizarás un gráfico de contorno, que te permitirá representar la distribución de las concentraciones del mineral en todo el área de estudio."
      ],
      "metadata": {
        "id": "j5rClnPRRPwb"
      }
    },
    {
      "cell_type": "code",
      "source": [
        "import plotly.graph_objs as go\n",
        "from plotly.offline import iplot"
      ],
      "metadata": {
        "id": "njnRv_U4R9xi"
      },
      "execution_count": 1,
      "outputs": []
    },
    {
      "cell_type": "markdown",
      "source": [
        "**Listas** de Datos de ejemplo para el gráfico y definición de valores para las coordenadas."
      ],
      "metadata": {
        "id": "-0WuZZwlTBcc"
      }
    },
    {
      "cell_type": "code",
      "source": [
        "coordenadas_x = [0, 1, 2, 3, 4]\n",
        "coordenadas_y = [0, 1, 2, 3, 4]\n",
        "concentraciones = [[10, 10.625, 12.5, 15.625, 20, 18],\n",
        "[5.625, 6.25, 8.125, 11.25, 15.625, 11],\n",
        "[2.5, 3.125, 5.0, 8.125, 12.5, 3],\n",
        "[0.625, 1.25, 3.125, 6.25, 10.625, 6.7],\n",
        "[0, 0.625, 2.5, 5.625, 10, 8.99]]"
      ],
      "metadata": {
        "id": "968ASwzOTYVj"
      },
      "execution_count": 4,
      "outputs": []
    },
    {
      "cell_type": "markdown",
      "source": [
        "**Configuración del Gráfico:** \\ Esta Sección configura los parámetros para indicarle al **Framework**, *Dash* cómo crear el gráfico de contorno con la *Objeto* **iplot**."
      ],
      "metadata": {
        "id": "7yaM9YSvT83S"
      }
    },
    {
      "cell_type": "code",
      "source": [
        "# Crear el gráfico de contorno\n",
        "data = [go.Contour(\n",
        "x=coordenadas_x,\n",
        "y=coordenadas_y,\n",
        "z=concentraciones,\n",
        "colorscale='Viridis'\n",
        ")]\n",
        "# Configurar el layout del gráfico\n",
        "layout = go.Layout(\n",
        "title='Concentración de Minerales en Área de Estudio',\n",
        "xaxis=dict(title='Coordenada X'),\n",
        "yaxis=dict(title='Coordenada Y')\n",
        ")\n",
        "# Crear la figura y mostrar el gráfico\n",
        "fig = go.Figure(data=data, layout=layout)\n",
        "iplot(fig)"
      ],
      "metadata": {
        "id": "EBYPOYosUQ4Q"
      },
      "execution_count": null,
      "outputs": []
    }
  ]
}